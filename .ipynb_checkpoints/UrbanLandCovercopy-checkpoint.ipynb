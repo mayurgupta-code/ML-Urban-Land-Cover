{
 "cells": [
  {
   "cell_type": "code",
   "execution_count": 16,
   "metadata": {},
   "outputs": [],
   "source": [
    "import pandas as pd\n",
    "import numpy as np\n",
    "import matplotlib.pyplot as plt"
   ]
  },
  {
   "cell_type": "code",
   "execution_count": 17,
   "metadata": {},
   "outputs": [],
   "source": [
    "dataset = pd.read_csv(\"training.csv\")\n",
    "X = dataset.iloc[:,1:].values\n",
    "Y = dataset.iloc[:,0].values"
   ]
  },
  {
   "cell_type": "code",
   "execution_count": 18,
   "metadata": {},
   "outputs": [
    {
     "name": "stdout",
     "output_type": "stream",
     "text": [
      "[[ 1.27000e+00  9.10000e+01  9.70000e-01 ... -8.00000e-02  5.60000e+01\n",
      "   3.80636e+03]\n",
      " [ 2.36000e+00  2.41000e+02  1.56000e+00 ... -9.00000e-02  1.74600e+03\n",
      "   1.45014e+03]\n",
      " [ 2.12000e+00  2.66000e+02  1.47000e+00 ... -7.00000e-02  5.66000e+02\n",
      "   1.09404e+03]\n",
      " ...\n",
      " [ 2.97000e+00  2.52000e+02  1.73000e+00 ...  6.00000e-02  9.48000e+02\n",
      "   8.21840e+02]\n",
      " [ 1.57000e+00  2.16000e+02  1.27000e+00 ...  9.00000e-02  2.54000e+02\n",
      "   1.58072e+03]\n",
      " [ 2.12000e+00  8.36000e+02  8.80000e-01 ... -9.00000e-02  3.02000e+03\n",
      "   1.61155e+03]]\n"
     ]
    }
   ],
   "source": [
    "print(X)"
   ]
  },
  {
   "cell_type": "code",
   "execution_count": 19,
   "metadata": {},
   "outputs": [
    {
     "name": "stdout",
     "output_type": "stream",
     "text": [
      "['car ' 'concrete ' 'concrete ' 'concrete ' 'concrete ' 'tree ' 'car '\n",
      " 'car ' 'building ' 'tree ' 'building ' 'asphalt ' 'building ' 'grass '\n",
      " 'shadow ' 'building ' 'tree ' 'soil ' 'building ' 'shadow ' 'pool '\n",
      " 'shadow ' 'concrete ' 'tree ' 'grass ' 'concrete ' 'grass ' 'building '\n",
      " 'building ' 'building ' 'asphalt ' 'shadow ' 'building ' 'grass ' 'tree '\n",
      " 'building ' 'asphalt ' 'tree ' 'tree ' 'concrete ' 'soil ' 'tree '\n",
      " 'building ' 'building ' 'building ' 'grass ' 'grass ' 'shadow ' 'soil '\n",
      " 'soil ' 'shadow ' 'tree ' 'car ' 'car ' 'asphalt ' 'pool ' 'building '\n",
      " 'tree ' 'grass ' 'grass ' 'car ' 'car ' 'pool ' 'car ' 'soil ' 'grass '\n",
      " 'building ' 'concrete ' 'soil ' 'soil ' 'concrete ' 'building ' 'pool '\n",
      " 'pool ' 'pool ' 'shadow ' 'building ' 'grass ' 'shadow ' 'building '\n",
      " 'pool ' 'pool ' 'building ' 'concrete ' 'building ' 'shadow ' 'building '\n",
      " 'soil ' 'asphalt ' 'grass ' 'grass ' 'soil ' 'concrete ' 'soil ' 'soil '\n",
      " 'grass ' 'pool ' 'car ' 'shadow ' 'grass ' 'grass ' 'asphalt ' 'grass '\n",
      " 'car ' 'grass ' 'asphalt ' 'grass ' 'building ' 'concrete ' 'grass '\n",
      " 'asphalt ' 'grass ' 'grass ' 'pool ' 'concrete ' 'tree ' 'grass '\n",
      " 'concrete ' 'concrete ' 'car ' 'car ' 'grass ' 'shadow ' 'pool ' 'tree '\n",
      " 'shadow ' 'grass ' 'pool ' 'concrete ' 'grass ' 'concrete ' 'asphalt '\n",
      " 'asphalt ' 'concrete ' 'asphalt ' 'soil ' 'shadow ' 'pool ' 'pool '\n",
      " 'pool ' 'car ' 'building ' 'concrete ' 'asphalt ' 'concrete ' 'asphalt '\n",
      " 'building ' 'shadow ' 'shadow ' 'tree ' 'grass ' 'car ' 'tree ' 'shadow '\n",
      " 'concrete ' 'building ' 'soil ' 'tree ' 'asphalt ' 'concrete ' 'grass '\n",
      " 'tree ' 'tree ' 'car ' 'soil ' 'grass ' 'grass ' 'concrete ']\n"
     ]
    }
   ],
   "source": [
    "print(Y)"
   ]
  },
  {
   "cell_type": "code",
   "execution_count": 20,
   "metadata": {},
   "outputs": [
    {
     "name": "stdout",
     "output_type": "stream",
     "text": [
      "[[-1.1668417  -0.70057611 -0.33417849 ... -0.61730872 -1.05689458\n",
      "   4.20541308]\n",
      " [ 0.55534781 -0.47928054  0.87560136 ... -0.68257484  0.86927116\n",
      "   0.29051155]\n",
      " [ 0.17615012 -0.44239794  0.69105867 ... -0.5520426  -0.47562563\n",
      "  -0.30115495]\n",
      " ...\n",
      " [ 1.51914193 -0.4630522   1.22418199 ...  0.29641696 -0.04024378\n",
      "  -0.7534201 ]\n",
      " [-0.69284459 -0.51616313  0.2809638  ...  0.49221532 -0.83122546\n",
      "   0.50747254]\n",
      " [ 0.17615012  0.39852522 -0.51872118 ... -0.68257484  2.3213038\n",
      "   0.55869714]]\n"
     ]
    }
   ],
   "source": [
    "from sklearn.preprocessing import StandardScaler\n",
    "sc = StandardScaler()\n",
    "X = sc.fit_transform(X)\n",
    "print(X)"
   ]
  },
  {
   "cell_type": "code",
   "execution_count": 21,
   "metadata": {},
   "outputs": [],
   "source": [
    "from sklearn.preprocessing import LabelEncoder\n",
    "le = LabelEncoder()\n",
    "Y = np.array(le.fit_transform(Y))"
   ]
  },
  {
   "cell_type": "code",
   "execution_count": 22,
   "metadata": {},
   "outputs": [
    {
     "data": {
      "text/plain": [
       "LogisticRegression(max_iter=300, random_state=0)"
      ]
     },
     "execution_count": 22,
     "metadata": {},
     "output_type": "execute_result"
    }
   ],
   "source": [
    "from sklearn.linear_model import LogisticRegression\n",
    "classifier = LogisticRegression(random_state = 0, max_iter=300)\n",
    "classifier.fit(X,Y)"
   ]
  },
  {
   "cell_type": "code",
   "execution_count": 23,
   "metadata": {},
   "outputs": [],
   "source": [
    "testset = pd.read_csv(\"testing.csv\")\n",
    "X_test = testset.iloc[:,1:].values\n",
    "Y_test = testset.iloc[:,0].values"
   ]
  },
  {
   "cell_type": "code",
   "execution_count": 24,
   "metadata": {},
   "outputs": [
    {
     "name": "stdout",
     "output_type": "stream",
     "text": [
      "[[ 1.32000e+00  1.31000e+02  8.10000e-01 ... -1.00000e-01  1.51200e+03\n",
      "   1.28752e+03]\n",
      " [ 1.59000e+00  8.64000e+02  9.40000e-01 ... -1.40000e-01  1.96000e+02\n",
      "   2.65974e+03]\n",
      " [ 1.41000e+00  4.09000e+02  1.00000e+00 ...  1.00000e-01  1.19800e+03\n",
      "   7.20380e+02]\n",
      " ...\n",
      " [ 2.45000e+00  6.59000e+02  1.38000e+00 ... -9.00000e-02  2.59600e+03\n",
      "   1.24303e+03]\n",
      " [ 1.90000e+00  8.90000e+01  1.01000e+00 ... -1.20000e-01  7.26000e+02\n",
      "   1.47063e+03]\n",
      " [ 2.48000e+00  1.55000e+02  1.68000e+00 ... -1.10000e-01  2.96000e+02\n",
      "   1.99125e+03]]\n"
     ]
    }
   ],
   "source": [
    "print(X_test)"
   ]
  },
  {
   "cell_type": "code",
   "execution_count": 25,
   "metadata": {},
   "outputs": [
    {
     "name": "stdout",
     "output_type": "stream",
     "text": [
      "['concrete ' 'shadow ' 'shadow ' 'tree ' 'asphalt ' 'building ' 'asphalt '\n",
      " 'grass ' 'tree ' 'building ' 'pool ' 'grass ' 'asphalt ' 'concrete '\n",
      " 'grass ' 'asphalt ' 'tree ' 'grass ' 'tree ' 'concrete ' 'tree ' 'grass '\n",
      " 'tree ' 'building ' 'grass ' 'asphalt ' 'car ' 'tree ' 'building ' 'car '\n",
      " 'concrete ' 'concrete ' 'building ' 'concrete ' 'asphalt ' 'tree '\n",
      " 'grass ' 'concrete ' 'car ' 'shadow ' 'shadow ' 'concrete ' 'building '\n",
      " 'tree ' 'tree ' 'tree ' 'concrete ' 'building ' 'building ' 'shadow '\n",
      " 'grass ' 'pool ' 'car ' 'tree ' 'pool ' 'building ' 'grass ' 'shadow '\n",
      " 'concrete ' 'tree ' 'shadow ' 'grass ' 'tree ' 'tree ' 'building '\n",
      " 'building ' 'car ' 'concrete ' 'building ' 'building ' 'pool '\n",
      " 'concrete ' 'concrete ' 'grass ' 'grass ' 'asphalt ' 'tree ' 'shadow '\n",
      " 'asphalt ' 'tree ' 'grass ' 'building ' 'building ' 'soil ' 'grass '\n",
      " 'building ' 'concrete ' 'grass ' 'building ' 'building ' 'concrete '\n",
      " 'tree ' 'tree ' 'asphalt ' 'tree ' 'building ' 'asphalt ' 'grass '\n",
      " 'tree ' 'building ' 'pool ' 'grass ' 'soil ' 'asphalt ' 'asphalt '\n",
      " 'pool ' 'tree ' 'concrete ' 'soil ' 'soil ' 'tree ' 'shadow ' 'grass '\n",
      " 'tree ' 'shadow ' 'asphalt ' 'asphalt ' 'tree ' 'grass ' 'building '\n",
      " 'soil ' 'shadow ' 'grass ' 'shadow ' 'shadow ' 'building ' 'concrete '\n",
      " 'concrete ' 'building ' 'concrete ' 'tree ' 'tree ' 'grass ' 'car '\n",
      " 'car ' 'car ' 'shadow ' 'soil ' 'tree ' 'concrete ' 'asphalt ' 'grass '\n",
      " 'concrete ' 'concrete ' 'shadow ' 'tree ' 'tree ' 'tree ' 'shadow '\n",
      " 'grass ' 'building ' 'soil ' 'tree ' 'tree ' 'grass ' 'building '\n",
      " 'shadow ' 'tree ' 'concrete ' 'grass ' 'grass ' 'building ' 'shadow '\n",
      " 'tree ' 'concrete ' 'tree ' 'building ' 'tree ' 'tree ' 'tree '\n",
      " 'concrete ' 'grass ' 'soil ' 'concrete ' 'building ' 'tree ' 'building '\n",
      " 'shadow ' 'building ' 'building ' 'building ' 'building ' 'building '\n",
      " 'grass ' 'tree ' 'grass ' 'tree ' 'asphalt ' 'grass ' 'building '\n",
      " 'building ' 'asphalt ' 'building ' 'shadow ' 'soil ' 'soil ' 'grass '\n",
      " 'building ' 'car ' 'building ' 'tree ' 'grass ' 'car ' 'building '\n",
      " 'soil ' 'concrete ' 'pool ' 'concrete ' 'building ' 'tree ' 'car '\n",
      " 'building ' 'concrete ' 'concrete ' 'concrete ' 'concrete ' 'pool '\n",
      " 'building ' 'tree ' 'grass ' 'pool ' 'tree ' 'soil ' 'pool ' 'concrete '\n",
      " 'asphalt ' 'shadow ' 'tree ' 'building ' 'soil ' 'concrete ' 'grass '\n",
      " 'soil ' 'grass ' 'building ' 'concrete ' 'concrete ' 'concrete ' 'grass '\n",
      " 'building ' 'building ' 'concrete ' 'soil ' 'shadow ' 'concrete '\n",
      " 'concrete ' 'building ' 'concrete ' 'building ' 'tree ' 'building '\n",
      " 'concrete ' 'asphalt ' 'grass ' 'shadow ' 'grass ' 'grass ' 'grass '\n",
      " 'grass ' 'tree ' 'tree ' 'tree ' 'tree ' 'concrete ' 'concrete ' 'soil '\n",
      " 'grass ' 'grass ' 'grass ' 'grass ' 'building ' 'shadow ' 'tree '\n",
      " 'grass ' 'grass ' 'soil ' 'building ' 'concrete ' 'asphalt ' 'building '\n",
      " 'concrete ' 'shadow ' 'tree ' 'grass ' 'pool ' 'asphalt ' 'asphalt '\n",
      " 'asphalt ' 'asphalt ' 'building ' 'grass ' 'concrete ' 'pool '\n",
      " 'building ' 'concrete ' 'grass ' 'grass ' 'building ' 'pool ' 'asphalt '\n",
      " 'soil ' 'building ' 'building ' 'concrete ' 'building ' 'asphalt '\n",
      " 'tree ' 'grass ' 'tree ' 'concrete ' 'tree ' 'tree ' 'building ' 'grass '\n",
      " 'grass ' 'shadow ' 'concrete ' 'concrete ' 'shadow ' 'concrete '\n",
      " 'concrete ' 'grass ' 'grass ' 'shadow ' 'concrete ' 'tree ' 'concrete '\n",
      " 'shadow ' 'concrete ' 'concrete ' 'tree ' 'building ' 'building '\n",
      " 'grass ' 'tree ' 'concrete ' 'pool ' 'concrete ' 'building ' 'grass '\n",
      " 'tree ' 'grass ' 'building ' 'tree ' 'building ' 'tree ' 'shadow '\n",
      " 'concrete ' 'building ' 'concrete ' 'concrete ' 'grass ' 'tree '\n",
      " 'concrete ' 'concrete ' 'grass ' 'building ' 'concrete ' 'asphalt '\n",
      " 'tree ' 'shadow ' 'shadow ' 'tree ' 'tree ' 'concrete ' 'concrete '\n",
      " 'tree ' 'shadow ' 'car ' 'shadow ' 'tree ' 'tree ' 'shadow ' 'car '\n",
      " 'concrete ' 'car ' 'concrete ' 'building ' 'grass ' 'tree ' 'soil '\n",
      " 'concrete ' 'tree ' 'asphalt ' 'shadow ' 'building ' 'asphalt '\n",
      " 'concrete ' 'concrete ' 'concrete ' 'tree ' 'grass ' 'grass ' 'grass '\n",
      " 'building ' 'building ' 'asphalt ' 'shadow ' 'building ' 'building '\n",
      " 'asphalt ' 'grass ' 'grass ' 'concrete ' 'building ' 'grass ' 'asphalt '\n",
      " 'car ' 'car ' 'building ' 'tree ' 'asphalt ' 'tree ' 'tree ' 'building '\n",
      " 'tree ' 'building ' 'asphalt ' 'car ' 'concrete ' 'asphalt ' 'concrete '\n",
      " 'shadow ' 'asphalt ' 'concrete ' 'asphalt ' 'shadow ' 'concrete '\n",
      " 'building ' 'shadow ' 'tree ' 'car ' 'tree ' 'grass ' 'grass ' 'shadow '\n",
      " 'building ' 'asphalt ' 'concrete ' 'concrete ' 'building ' 'building '\n",
      " 'tree ' 'tree ' 'building ' 'concrete ' 'tree ' 'building ' 'concrete '\n",
      " 'building ' 'building ' 'building ' 'concrete ' 'shadow ' 'building '\n",
      " 'tree ' 'concrete ' 'car ' 'grass ' 'building ' 'grass ' 'concrete '\n",
      " 'concrete ' 'building ' 'tree ' 'concrete ' 'concrete ' 'asphalt '\n",
      " 'building ' 'shadow ' 'asphalt ' 'tree ' 'grass ' 'asphalt ' 'shadow '\n",
      " 'shadow ' 'asphalt ' 'tree ' 'asphalt ' 'asphalt ' 'grass ' 'grass '\n",
      " 'grass ' 'grass ' 'grass ' 'grass ' 'grass ' 'tree ' 'tree ' 'building '\n",
      " 'building ' 'concrete ' 'concrete ' 'concrete ' 'asphalt ' 'soil '\n",
      " 'grass ' 'building ' 'car ' 'car ' 'grass ' 'building ' 'building '\n",
      " 'grass ' 'concrete ' 'building ' 'building ']\n"
     ]
    }
   ],
   "source": [
    "print(Y_test)"
   ]
  },
  {
   "cell_type": "code",
   "execution_count": 26,
   "metadata": {},
   "outputs": [
    {
     "data": {
      "text/plain": [
       "array([[-1.08784218, -0.64156396, -0.66225439, ..., -0.74784096,\n",
       "         0.60257129,  0.02031552],\n",
       "       [-0.66124478,  0.43983373, -0.39569272, ..., -1.00890543,\n",
       "        -0.89733055,  2.30028351],\n",
       "       [-0.94564305, -0.2314295 , -0.27266426, ...,  0.55748144,\n",
       "         0.24469198, -0.9219977 ],\n",
       "       ...,\n",
       "       [ 0.69754694,  0.13739645,  0.50651598, ..., -0.68257484,\n",
       "         1.83805275, -0.05360541],\n",
       "       [-0.17144776, -0.70352672, -0.25215952, ..., -0.8783732 ,\n",
       "        -0.29326674,  0.32455605],\n",
       "       [ 0.74494665, -0.60615667,  1.12165828, ..., -0.81310708,\n",
       "        -0.78335625,  1.18957546]])"
      ]
     },
     "execution_count": 26,
     "metadata": {},
     "output_type": "execute_result"
    }
   ],
   "source": [
    "sc.transform(X_test)"
   ]
  },
  {
   "cell_type": "code",
   "execution_count": 27,
   "metadata": {},
   "outputs": [
    {
     "data": {
      "text/plain": [
       "array([3, 6, 6, 8, 0, 1, 0, 4, 8, 1, 5, 4, 0, 3, 4, 0, 8, 4, 8, 3, 8, 4,\n",
       "       8, 1, 4, 0, 2, 8, 1, 2, 3, 3, 1, 3, 0, 8, 4, 3, 2, 6, 6, 3, 1, 8,\n",
       "       8, 8, 3, 1, 1, 6, 4, 5, 2, 8, 5, 1, 4, 6, 3, 8, 6, 4, 8, 8, 1, 1,\n",
       "       2, 3, 1, 1, 5, 3, 3, 4, 4, 0, 8, 6, 0, 8, 4, 1, 1, 7, 4, 1, 3, 4,\n",
       "       1, 1, 3, 8, 8, 0, 8, 1, 0, 4, 8, 1, 5, 4, 7, 0, 0, 5, 8, 3, 7, 7,\n",
       "       8, 6, 4, 8, 6, 0, 0, 8, 4, 1, 7, 6, 4, 6, 6, 1, 3, 3, 1, 3, 8, 8,\n",
       "       4, 2, 2, 2, 6, 7, 8, 3, 0, 4, 3, 3, 6, 8, 8, 8, 6, 4, 1, 7, 8, 8,\n",
       "       4, 1, 6, 8, 3, 4, 4, 1, 6, 8, 3, 8, 1, 8, 8, 8, 3, 4, 7, 3, 1, 8,\n",
       "       1, 6, 1, 1, 1, 1, 1, 4, 8, 4, 8, 0, 4, 1, 1, 0, 1, 6, 7, 7, 4, 1,\n",
       "       2, 1, 8, 4, 2, 1, 7, 3, 5, 3, 1, 8, 2, 1, 3, 3, 3, 3, 5, 1, 8, 4,\n",
       "       5, 8, 7, 5, 3, 0, 6, 8, 1, 7, 3, 4, 7, 4, 1, 3, 3, 3, 4, 1, 1, 3,\n",
       "       7, 6, 3, 3, 1, 3, 1, 8, 1, 3, 0, 4, 6, 4, 4, 4, 4, 8, 8, 8, 8, 3,\n",
       "       3, 7, 4, 4, 4, 4, 1, 6, 8, 4, 4, 7, 1, 3, 0, 1, 3, 6, 8, 4, 5, 0,\n",
       "       0, 0, 0, 1, 4, 3, 5, 1, 3, 4, 4, 1, 5, 0, 7, 1, 1, 3, 1, 0, 8, 4,\n",
       "       8, 3, 8, 8, 1, 4, 4, 6, 3, 3, 6, 3, 3, 4, 4, 6, 3, 8, 3, 6, 3, 3,\n",
       "       8, 1, 1, 4, 8, 3, 5, 3, 1, 4, 8, 4, 1, 8, 1, 8, 6, 3, 1, 3, 3, 4,\n",
       "       8, 3, 3, 4, 1, 3, 0, 8, 6, 6, 8, 8, 3, 3, 8, 6, 2, 6, 8, 8, 6, 2,\n",
       "       3, 2, 3, 1, 4, 8, 7, 3, 8, 0, 6, 1, 0, 3, 3, 3, 8, 4, 4, 4, 1, 1,\n",
       "       0, 6, 1, 1, 0, 4, 4, 3, 1, 4, 0, 2, 2, 1, 8, 0, 8, 8, 1, 8, 1, 0,\n",
       "       2, 3, 0, 3, 6, 0, 3, 0, 6, 3, 1, 6, 8, 2, 8, 4, 4, 6, 1, 0, 3, 3,\n",
       "       1, 1, 8, 8, 1, 3, 8, 1, 3, 1, 1, 1, 3, 6, 1, 8, 3, 2, 4, 1, 4, 3,\n",
       "       3, 1, 8, 3, 3, 0, 1, 6, 0, 8, 4, 0, 6, 6, 0, 8, 0, 0, 4, 4, 4, 4,\n",
       "       4, 4, 4, 8, 8, 1, 1, 3, 3, 3, 0, 7, 4, 1, 2, 2, 4, 1, 1, 4, 3, 1,\n",
       "       1])"
      ]
     },
     "execution_count": 27,
     "metadata": {},
     "output_type": "execute_result"
    }
   ],
   "source": [
    "le.transform(Y_test)"
   ]
  },
  {
   "cell_type": "code",
   "execution_count": 28,
   "metadata": {},
   "outputs": [],
   "source": [
    "Y_pred = classifier.predict(sc.transform(X_test))"
   ]
  },
  {
   "cell_type": "code",
   "execution_count": 30,
   "metadata": {},
   "outputs": [
    {
     "data": {
      "text/plain": [
       "array([2, 6, 0, 8, 0, 4, 0, 8, 4, 0, 4, 8, 6, 3, 4, 0, 8, 8, 4, 3, 8, 8,\n",
       "       4, 3, 3, 0, 2, 8, 1, 2, 3, 3, 1, 3, 0, 4, 8, 4, 2, 5, 6, 3, 1, 8,\n",
       "       8, 8, 3, 3, 1, 6, 4, 5, 2, 8, 5, 1, 8, 6, 7, 8, 5, 8, 8, 8, 1, 1,\n",
       "       2, 3, 1, 1, 5, 7, 3, 4, 8, 0, 8, 6, 6, 4, 4, 1, 1, 7, 8, 1, 3, 4,\n",
       "       1, 3, 3, 8, 8, 0, 8, 1, 0, 8, 8, 1, 5, 4, 7, 0, 0, 5, 4, 3, 4, 7,\n",
       "       4, 6, 8, 8, 6, 0, 0, 8, 8, 1, 7, 6, 8, 6, 6, 1, 7, 7, 1, 3, 8, 6,\n",
       "       8, 2, 2, 2, 6, 8, 8, 2, 6, 4, 3, 3, 6, 6, 8, 4, 6, 8, 1, 7, 8, 2,\n",
       "       8, 1, 6, 8, 3, 4, 3, 3, 6, 8, 3, 6, 1, 8, 8, 8, 3, 7, 7, 3, 1, 4,\n",
       "       1, 0, 4, 1, 1, 1, 1, 8, 4, 4, 8, 0, 4, 1, 6, 6, 1, 6, 7, 7, 4, 3,\n",
       "       2, 1, 8, 4, 3, 1, 8, 1, 5, 3, 1, 4, 2, 1, 3, 3, 3, 3, 5, 3, 2, 4,\n",
       "       5, 8, 7, 5, 3, 0, 6, 8, 3, 3, 3, 4, 4, 4, 1, 3, 3, 3, 8, 3, 1, 3,\n",
       "       3, 6, 3, 3, 1, 7, 7, 8, 3, 8, 0, 4, 6, 4, 4, 4, 4, 2, 4, 8, 4, 3,\n",
       "       1, 7, 4, 4, 4, 4, 1, 6, 8, 4, 4, 4, 3, 3, 6, 3, 1, 6, 4, 4, 5, 0,\n",
       "       0, 0, 8, 1, 4, 7, 1, 1, 3, 4, 4, 1, 5, 6, 7, 1, 1, 3, 1, 0, 8, 4,\n",
       "       8, 7, 8, 4, 1, 4, 4, 0, 3, 3, 0, 7, 3, 8, 4, 0, 3, 8, 3, 6, 3, 3,\n",
       "       8, 1, 1, 8, 8, 3, 5, 3, 1, 4, 8, 4, 1, 4, 1, 8, 6, 3, 1, 3, 3, 4,\n",
       "       8, 3, 3, 4, 1, 8, 0, 8, 6, 0, 8, 4, 8, 3, 8, 6, 2, 6, 4, 4, 6, 8,\n",
       "       3, 2, 2, 3, 4, 8, 4, 7, 8, 0, 6, 1, 0, 3, 3, 3, 8, 4, 4, 4, 1, 1,\n",
       "       0, 0, 7, 3, 0, 7, 4, 3, 3, 4, 6, 2, 2, 3, 4, 0, 4, 8, 3, 4, 3, 0,\n",
       "       2, 7, 0, 7, 6, 0, 1, 0, 6, 7, 1, 6, 4, 2, 8, 4, 8, 6, 3, 0, 3, 7,\n",
       "       3, 7, 4, 8, 3, 7, 8, 3, 3, 1, 1, 3, 3, 6, 1, 8, 3, 2, 4, 1, 4, 3,\n",
       "       7, 5, 8, 3, 3, 0, 1, 6, 0, 8, 4, 0, 5, 0, 0, 8, 0, 0, 4, 8, 4, 4,\n",
       "       4, 1, 4, 8, 8, 1, 3, 3, 7, 7, 0, 1, 4, 1, 8, 2, 4, 1, 1, 4, 3, 3,\n",
       "       3])"
      ]
     },
     "execution_count": 30,
     "metadata": {},
     "output_type": "execute_result"
    }
   ],
   "source": [
    "Y_pred"
   ]
  },
  {
   "cell_type": "code",
   "execution_count": 29,
   "metadata": {},
   "outputs": [
    {
     "ename": "NameError",
     "evalue": "name 'confusion_matrix' is not defined",
     "output_type": "error",
     "traceback": [
      "\u001b[0;31m---------------------------------------------------------------------------\u001b[0m",
      "\u001b[0;31mNameError\u001b[0m                                 Traceback (most recent call last)",
      "\u001b[0;32m<ipython-input-29-7586e1a38949>\u001b[0m in \u001b[0;36m<module>\u001b[0;34m\u001b[0m\n\u001b[0;32m----> 1\u001b[0;31m \u001b[0mcm\u001b[0m \u001b[0;34m=\u001b[0m \u001b[0mconfusion_matrix\u001b[0m\u001b[0;34m(\u001b[0m\u001b[0mle\u001b[0m\u001b[0;34m.\u001b[0m\u001b[0mtransform\u001b[0m\u001b[0;34m(\u001b[0m\u001b[0mY_test\u001b[0m\u001b[0;34m)\u001b[0m\u001b[0;34m,\u001b[0m \u001b[0mY_pred\u001b[0m\u001b[0;34m)\u001b[0m\u001b[0;34m\u001b[0m\u001b[0;34m\u001b[0m\u001b[0m\n\u001b[0m",
      "\u001b[0;31mNameError\u001b[0m: name 'confusion_matrix' is not defined"
     ]
    }
   ],
   "source": [
    "cm = confusion_matrix(le.transform(Y_test), Y_pred)"
   ]
  },
  {
   "cell_type": "code",
   "execution_count": null,
   "metadata": {},
   "outputs": [],
   "source": [
    "accuracy = accuracy_score(Y_test, Y_pred)"
   ]
  },
  {
   "cell_type": "code",
   "execution_count": null,
   "metadata": {},
   "outputs": [],
   "source": []
  }
 ],
 "metadata": {
  "kernelspec": {
   "display_name": "Python 3",
   "language": "python",
   "name": "python3"
  },
  "language_info": {
   "codemirror_mode": {
    "name": "ipython",
    "version": 3
   },
   "file_extension": ".py",
   "mimetype": "text/x-python",
   "name": "python",
   "nbconvert_exporter": "python",
   "pygments_lexer": "ipython3",
   "version": "3.8.3"
  }
 },
 "nbformat": 4,
 "nbformat_minor": 4
}
