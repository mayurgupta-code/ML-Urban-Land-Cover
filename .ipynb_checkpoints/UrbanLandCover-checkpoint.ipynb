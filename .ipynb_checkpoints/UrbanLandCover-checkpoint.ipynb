{
 "cells": [
  {
   "cell_type": "code",
   "execution_count": 441,
   "metadata": {},
   "outputs": [],
   "source": [
    "import pandas as pd\n",
    "import numpy as np\n",
    "import matplotlib.pyplot as plt"
   ]
  },
  {
   "cell_type": "code",
   "execution_count": 442,
   "metadata": {},
   "outputs": [],
   "source": [
    "dataset = pd.read_csv(\"training.csv\")\n",
    "X = dataset.iloc[:,1:].values\n",
    "Y = dataset.iloc[:,0].values"
   ]
  },
  {
   "cell_type": "code",
   "execution_count": 443,
   "metadata": {},
   "outputs": [
    {
     "name": "stdout",
     "output_type": "stream",
     "text": [
      "[[ 1.27000e+00  9.10000e+01  9.70000e-01 ... -8.00000e-02  5.60000e+01\n",
      "   3.80636e+03]\n",
      " [ 2.36000e+00  2.41000e+02  1.56000e+00 ... -9.00000e-02  1.74600e+03\n",
      "   1.45014e+03]\n",
      " [ 2.12000e+00  2.66000e+02  1.47000e+00 ... -7.00000e-02  5.66000e+02\n",
      "   1.09404e+03]\n",
      " ...\n",
      " [ 2.97000e+00  2.52000e+02  1.73000e+00 ...  6.00000e-02  9.48000e+02\n",
      "   8.21840e+02]\n",
      " [ 1.57000e+00  2.16000e+02  1.27000e+00 ...  9.00000e-02  2.54000e+02\n",
      "   1.58072e+03]\n",
      " [ 2.12000e+00  8.36000e+02  8.80000e-01 ... -9.00000e-02  3.02000e+03\n",
      "   1.61155e+03]]\n"
     ]
    }
   ],
   "source": [
    "print(X)"
   ]
  },
  {
   "cell_type": "code",
   "execution_count": 444,
   "metadata": {},
   "outputs": [
    {
     "data": {
      "text/plain": [
       "array(['car ', 'concrete ', 'concrete ', 'concrete ', 'concrete ',\n",
       "       'tree ', 'car ', 'car ', 'building ', 'tree ', 'building ',\n",
       "       'asphalt ', 'building ', 'grass ', 'shadow ', 'building ', 'tree ',\n",
       "       'soil ', 'building ', 'shadow ', 'pool ', 'shadow ', 'concrete ',\n",
       "       'tree ', 'grass ', 'concrete ', 'grass ', 'building ', 'building ',\n",
       "       'building ', 'asphalt ', 'shadow ', 'building ', 'grass ', 'tree ',\n",
       "       'building ', 'asphalt ', 'tree ', 'tree ', 'concrete ', 'soil ',\n",
       "       'tree ', 'building ', 'building ', 'building ', 'grass ', 'grass ',\n",
       "       'shadow ', 'soil ', 'soil ', 'shadow ', 'tree ', 'car ', 'car ',\n",
       "       'asphalt ', 'pool ', 'building ', 'tree ', 'grass ', 'grass ',\n",
       "       'car ', 'car ', 'pool ', 'car ', 'soil ', 'grass ', 'building ',\n",
       "       'concrete ', 'soil ', 'soil ', 'concrete ', 'building ', 'pool ',\n",
       "       'pool ', 'pool ', 'shadow ', 'building ', 'grass ', 'shadow ',\n",
       "       'building ', 'pool ', 'pool ', 'building ', 'concrete ',\n",
       "       'building ', 'shadow ', 'building ', 'soil ', 'asphalt ', 'grass ',\n",
       "       'grass ', 'soil ', 'concrete ', 'soil ', 'soil ', 'grass ',\n",
       "       'pool ', 'car ', 'shadow ', 'grass ', 'grass ', 'asphalt ',\n",
       "       'grass ', 'car ', 'grass ', 'asphalt ', 'grass ', 'building ',\n",
       "       'concrete ', 'grass ', 'asphalt ', 'grass ', 'grass ', 'pool ',\n",
       "       'concrete ', 'tree ', 'grass ', 'concrete ', 'concrete ', 'car ',\n",
       "       'car ', 'grass ', 'shadow ', 'pool ', 'tree ', 'shadow ', 'grass ',\n",
       "       'pool ', 'concrete ', 'grass ', 'concrete ', 'asphalt ',\n",
       "       'asphalt ', 'concrete ', 'asphalt ', 'soil ', 'shadow ', 'pool ',\n",
       "       'pool ', 'pool ', 'car ', 'building ', 'concrete ', 'asphalt ',\n",
       "       'concrete ', 'asphalt ', 'building ', 'shadow ', 'shadow ',\n",
       "       'tree ', 'grass ', 'car ', 'tree ', 'shadow ', 'concrete ',\n",
       "       'building ', 'soil ', 'tree ', 'asphalt ', 'concrete ', 'grass ',\n",
       "       'tree ', 'tree ', 'car ', 'soil ', 'grass ', 'grass ', 'concrete '],\n",
       "      dtype=object)"
      ]
     },
     "execution_count": 444,
     "metadata": {},
     "output_type": "execute_result"
    }
   ],
   "source": [
    "Y"
   ]
  },
  {
   "cell_type": "code",
   "execution_count": 445,
   "metadata": {},
   "outputs": [
    {
     "name": "stdout",
     "output_type": "stream",
     "text": [
      "[[-1.1668417  -0.70057611 -0.33417849 ... -0.61730872 -1.05689458\n",
      "   4.20541308]\n",
      " [ 0.55534781 -0.47928054  0.87560136 ... -0.68257484  0.86927116\n",
      "   0.29051155]\n",
      " [ 0.17615012 -0.44239794  0.69105867 ... -0.5520426  -0.47562563\n",
      "  -0.30115495]\n",
      " ...\n",
      " [ 1.51914193 -0.4630522   1.22418199 ...  0.29641696 -0.04024378\n",
      "  -0.7534201 ]\n",
      " [-0.69284459 -0.51616313  0.2809638  ...  0.49221532 -0.83122546\n",
      "   0.50747254]\n",
      " [ 0.17615012  0.39852522 -0.51872118 ... -0.68257484  2.3213038\n",
      "   0.55869714]]\n"
     ]
    }
   ],
   "source": [
    "#feature scaling for x_test\n",
    "from sklearn.preprocessing import StandardScaler\n",
    "sc = StandardScaler()\n",
    "X = sc.fit_transform(X)\n",
    "print(X)"
   ]
  },
  {
   "cell_type": "code",
   "execution_count": 446,
   "metadata": {},
   "outputs": [],
   "source": [
    "from sklearn.preprocessing import LabelEncoder\n",
    "le = LabelEncoder()\n",
    "#Y = np.array(le.fit_transform(Y))\n",
    "Y = le.fit_transform(Y)"
   ]
  },
  {
   "cell_type": "markdown",
   "metadata": {},
   "source": [
    "# Training"
   ]
  },
  {
   "cell_type": "code",
   "execution_count": 447,
   "metadata": {},
   "outputs": [
    {
     "name": "stderr",
     "output_type": "stream",
     "text": [
      "/opt/anaconda3/lib/python3.8/site-packages/sklearn/linear_model/_sag.py:329: ConvergenceWarning: The max_iter was reached which means the coef_ did not converge\n",
      "  warnings.warn(\"The max_iter was reached which means \"\n"
     ]
    },
    {
     "data": {
      "text/plain": [
       "LogisticRegression(l1_ratio=0.5, max_iter=5, penalty='elasticnet',\n",
       "                   random_state=2, solver='saga')"
      ]
     },
     "execution_count": 447,
     "metadata": {},
     "output_type": "execute_result"
    }
   ],
   "source": [
    "from sklearn.linear_model import LogisticRegression\n",
    "classifier = LogisticRegression(random_state=2, max_iter=5, solver='saga', penalty='elasticnet', l1_ratio=0.5)\n",
    "classifier.fit(X,Y)"
   ]
  },
  {
   "cell_type": "code",
   "execution_count": 448,
   "metadata": {},
   "outputs": [],
   "source": [
    "testset = pd.read_csv(\"testing.csv\")\n",
    "X_test = testset.iloc[:,1:].values\n",
    "Y_test = testset.iloc[:,0].values"
   ]
  },
  {
   "cell_type": "code",
   "execution_count": 449,
   "metadata": {
    "collapsed": true
   },
   "outputs": [
    {
     "name": "stdout",
     "output_type": "stream",
     "text": [
      "[[ 1.32000e+00  1.31000e+02  8.10000e-01 ... -1.00000e-01  1.51200e+03\n",
      "   1.28752e+03]\n",
      " [ 1.59000e+00  8.64000e+02  9.40000e-01 ... -1.40000e-01  1.96000e+02\n",
      "   2.65974e+03]\n",
      " [ 1.41000e+00  4.09000e+02  1.00000e+00 ...  1.00000e-01  1.19800e+03\n",
      "   7.20380e+02]\n",
      " ...\n",
      " [ 2.45000e+00  6.59000e+02  1.38000e+00 ... -9.00000e-02  2.59600e+03\n",
      "   1.24303e+03]\n",
      " [ 1.90000e+00  8.90000e+01  1.01000e+00 ... -1.20000e-01  7.26000e+02\n",
      "   1.47063e+03]\n",
      " [ 2.48000e+00  1.55000e+02  1.68000e+00 ... -1.10000e-01  2.96000e+02\n",
      "   1.99125e+03]]\n"
     ]
    }
   ],
   "source": [
    "print(X_test)"
   ]
  },
  {
   "cell_type": "code",
   "execution_count": 450,
   "metadata": {
    "collapsed": true
   },
   "outputs": [
    {
     "name": "stdout",
     "output_type": "stream",
     "text": [
      "['concrete ' 'shadow ' 'shadow ' 'tree ' 'asphalt ' 'building ' 'asphalt '\n",
      " 'grass ' 'tree ' 'building ' 'pool ' 'grass ' 'asphalt ' 'concrete '\n",
      " 'grass ' 'asphalt ' 'tree ' 'grass ' 'tree ' 'concrete ' 'tree ' 'grass '\n",
      " 'tree ' 'building ' 'grass ' 'asphalt ' 'car ' 'tree ' 'building ' 'car '\n",
      " 'concrete ' 'concrete ' 'building ' 'concrete ' 'asphalt ' 'tree '\n",
      " 'grass ' 'concrete ' 'car ' 'shadow ' 'shadow ' 'concrete ' 'building '\n",
      " 'tree ' 'tree ' 'tree ' 'concrete ' 'building ' 'building ' 'shadow '\n",
      " 'grass ' 'pool ' 'car ' 'tree ' 'pool ' 'building ' 'grass ' 'shadow '\n",
      " 'concrete ' 'tree ' 'shadow ' 'grass ' 'tree ' 'tree ' 'building '\n",
      " 'building ' 'car ' 'concrete ' 'building ' 'building ' 'pool '\n",
      " 'concrete ' 'concrete ' 'grass ' 'grass ' 'asphalt ' 'tree ' 'shadow '\n",
      " 'asphalt ' 'tree ' 'grass ' 'building ' 'building ' 'soil ' 'grass '\n",
      " 'building ' 'concrete ' 'grass ' 'building ' 'building ' 'concrete '\n",
      " 'tree ' 'tree ' 'asphalt ' 'tree ' 'building ' 'asphalt ' 'grass '\n",
      " 'tree ' 'building ' 'pool ' 'grass ' 'soil ' 'asphalt ' 'asphalt '\n",
      " 'pool ' 'tree ' 'concrete ' 'soil ' 'soil ' 'tree ' 'shadow ' 'grass '\n",
      " 'tree ' 'shadow ' 'asphalt ' 'asphalt ' 'tree ' 'grass ' 'building '\n",
      " 'soil ' 'shadow ' 'grass ' 'shadow ' 'shadow ' 'building ' 'concrete '\n",
      " 'concrete ' 'building ' 'concrete ' 'tree ' 'tree ' 'grass ' 'car '\n",
      " 'car ' 'car ' 'shadow ' 'soil ' 'tree ' 'concrete ' 'asphalt ' 'grass '\n",
      " 'concrete ' 'concrete ' 'shadow ' 'tree ' 'tree ' 'tree ' 'shadow '\n",
      " 'grass ' 'building ' 'soil ' 'tree ' 'tree ' 'grass ' 'building '\n",
      " 'shadow ' 'tree ' 'concrete ' 'grass ' 'grass ' 'building ' 'shadow '\n",
      " 'tree ' 'concrete ' 'tree ' 'building ' 'tree ' 'tree ' 'tree '\n",
      " 'concrete ' 'grass ' 'soil ' 'concrete ' 'building ' 'tree ' 'building '\n",
      " 'shadow ' 'building ' 'building ' 'building ' 'building ' 'building '\n",
      " 'grass ' 'tree ' 'grass ' 'tree ' 'asphalt ' 'grass ' 'building '\n",
      " 'building ' 'asphalt ' 'building ' 'shadow ' 'soil ' 'soil ' 'grass '\n",
      " 'building ' 'car ' 'building ' 'tree ' 'grass ' 'car ' 'building '\n",
      " 'soil ' 'concrete ' 'pool ' 'concrete ' 'building ' 'tree ' 'car '\n",
      " 'building ' 'concrete ' 'concrete ' 'concrete ' 'concrete ' 'pool '\n",
      " 'building ' 'tree ' 'grass ' 'pool ' 'tree ' 'soil ' 'pool ' 'concrete '\n",
      " 'asphalt ' 'shadow ' 'tree ' 'building ' 'soil ' 'concrete ' 'grass '\n",
      " 'soil ' 'grass ' 'building ' 'concrete ' 'concrete ' 'concrete ' 'grass '\n",
      " 'building ' 'building ' 'concrete ' 'soil ' 'shadow ' 'concrete '\n",
      " 'concrete ' 'building ' 'concrete ' 'building ' 'tree ' 'building '\n",
      " 'concrete ' 'asphalt ' 'grass ' 'shadow ' 'grass ' 'grass ' 'grass '\n",
      " 'grass ' 'tree ' 'tree ' 'tree ' 'tree ' 'concrete ' 'concrete ' 'soil '\n",
      " 'grass ' 'grass ' 'grass ' 'grass ' 'building ' 'shadow ' 'tree '\n",
      " 'grass ' 'grass ' 'soil ' 'building ' 'concrete ' 'asphalt ' 'building '\n",
      " 'concrete ' 'shadow ' 'tree ' 'grass ' 'pool ' 'asphalt ' 'asphalt '\n",
      " 'asphalt ' 'asphalt ' 'building ' 'grass ' 'concrete ' 'pool '\n",
      " 'building ' 'concrete ' 'grass ' 'grass ' 'building ' 'pool ' 'asphalt '\n",
      " 'soil ' 'building ' 'building ' 'concrete ' 'building ' 'asphalt '\n",
      " 'tree ' 'grass ' 'tree ' 'concrete ' 'tree ' 'tree ' 'building ' 'grass '\n",
      " 'grass ' 'shadow ' 'concrete ' 'concrete ' 'shadow ' 'concrete '\n",
      " 'concrete ' 'grass ' 'grass ' 'shadow ' 'concrete ' 'tree ' 'concrete '\n",
      " 'shadow ' 'concrete ' 'concrete ' 'tree ' 'building ' 'building '\n",
      " 'grass ' 'tree ' 'concrete ' 'pool ' 'concrete ' 'building ' 'grass '\n",
      " 'tree ' 'grass ' 'building ' 'tree ' 'building ' 'tree ' 'shadow '\n",
      " 'concrete ' 'building ' 'concrete ' 'concrete ' 'grass ' 'tree '\n",
      " 'concrete ' 'concrete ' 'grass ' 'building ' 'concrete ' 'asphalt '\n",
      " 'tree ' 'shadow ' 'shadow ' 'tree ' 'tree ' 'concrete ' 'concrete '\n",
      " 'tree ' 'shadow ' 'car ' 'shadow ' 'tree ' 'tree ' 'shadow ' 'car '\n",
      " 'concrete ' 'car ' 'concrete ' 'building ' 'grass ' 'tree ' 'soil '\n",
      " 'concrete ' 'tree ' 'asphalt ' 'shadow ' 'building ' 'asphalt '\n",
      " 'concrete ' 'concrete ' 'concrete ' 'tree ' 'grass ' 'grass ' 'grass '\n",
      " 'building ' 'building ' 'asphalt ' 'shadow ' 'building ' 'building '\n",
      " 'asphalt ' 'grass ' 'grass ' 'concrete ' 'building ' 'grass ' 'asphalt '\n",
      " 'car ' 'car ' 'building ' 'tree ' 'asphalt ' 'tree ' 'tree ' 'building '\n",
      " 'tree ' 'building ' 'asphalt ' 'car ' 'concrete ' 'asphalt ' 'concrete '\n",
      " 'shadow ' 'asphalt ' 'concrete ' 'asphalt ' 'shadow ' 'concrete '\n",
      " 'building ' 'shadow ' 'tree ' 'car ' 'tree ' 'grass ' 'grass ' 'shadow '\n",
      " 'building ' 'asphalt ' 'concrete ' 'concrete ' 'building ' 'building '\n",
      " 'tree ' 'tree ' 'building ' 'concrete ' 'tree ' 'building ' 'concrete '\n",
      " 'building ' 'building ' 'building ' 'concrete ' 'shadow ' 'building '\n",
      " 'tree ' 'concrete ' 'car ' 'grass ' 'building ' 'grass ' 'concrete '\n",
      " 'concrete ' 'building ' 'tree ' 'concrete ' 'concrete ' 'asphalt '\n",
      " 'building ' 'shadow ' 'asphalt ' 'tree ' 'grass ' 'asphalt ' 'shadow '\n",
      " 'shadow ' 'asphalt ' 'tree ' 'asphalt ' 'asphalt ' 'grass ' 'grass '\n",
      " 'grass ' 'grass ' 'grass ' 'grass ' 'grass ' 'tree ' 'tree ' 'building '\n",
      " 'building ' 'concrete ' 'concrete ' 'concrete ' 'asphalt ' 'soil '\n",
      " 'grass ' 'building ' 'car ' 'car ' 'grass ' 'building ' 'building '\n",
      " 'grass ' 'concrete ' 'building ' 'building ']\n"
     ]
    }
   ],
   "source": [
    "print(Y_test)"
   ]
  },
  {
   "cell_type": "code",
   "execution_count": 451,
   "metadata": {},
   "outputs": [],
   "source": [
    "X_test = sc.transform(X_test)"
   ]
  },
  {
   "cell_type": "code",
   "execution_count": 452,
   "metadata": {},
   "outputs": [],
   "source": [
    "Y_test = le.transform(Y_test)"
   ]
  },
  {
   "cell_type": "code",
   "execution_count": 453,
   "metadata": {},
   "outputs": [],
   "source": [
    "Y_pred = classifier.predict(X_test)"
   ]
  },
  {
   "cell_type": "code",
   "execution_count": 454,
   "metadata": {},
   "outputs": [],
   "source": [
    "from sklearn.metrics import confusion_matrix, accuracy_score"
   ]
  },
  {
   "cell_type": "code",
   "execution_count": 455,
   "metadata": {},
   "outputs": [],
   "source": [
    "cm = confusion_matrix(Y_test, Y_pred)"
   ]
  },
  {
   "cell_type": "code",
   "execution_count": 456,
   "metadata": {},
   "outputs": [],
   "source": [
    "accuracy = accuracy_score(Y_test, Y_pred)"
   ]
  },
  {
   "cell_type": "code",
   "execution_count": 457,
   "metadata": {
    "scrolled": false
   },
   "outputs": [
    {
     "name": "stdout",
     "output_type": "stream",
     "text": [
      "[[34  0  0  0  0  0 11  0  0]\n",
      " [ 1 71  1 15  0  2  2  5  0]\n",
      " [ 0  0 18  1  0  0  0  1  1]\n",
      " [ 0  5  3 75  0  0  0  8  2]\n",
      " [ 0  1  0  1 52  1  0  2 26]\n",
      " [ 0  1  0  0  0 12  0  0  1]\n",
      " [ 4  0  0  0  0  3 38  0  0]\n",
      " [ 0  2  1  4  3  0  0 10  0]\n",
      " [ 0  0  1  0 13  0  3  0 72]]\n",
      "0.7534516765285996\n"
     ]
    }
   ],
   "source": [
    "print(cm)\n",
    "print(accuracy)"
   ]
  },
  {
   "cell_type": "raw",
   "metadata": {},
   "source": [
    "classifier = LogisticRegression(random_state=2, max_iter=5, solver='saga', penalty='elasticnet', l1_ratio=0.5)\n",
    "0.7534516765285996\n",
    "\n"
   ]
  },
  {
   "cell_type": "markdown",
   "metadata": {},
   "source": [
    "### Parameters"
   ]
  },
  {
   "cell_type": "raw",
   "metadata": {},
   "source": [
    "penalty{‘l1’, ‘l2’, ‘elasticnet’, ‘none’}\n",
    "\n"
   ]
  },
  {
   "cell_type": "code",
   "execution_count": null,
   "metadata": {},
   "outputs": [],
   "source": []
  }
 ],
 "metadata": {
  "kernelspec": {
   "display_name": "Python 3",
   "language": "python",
   "name": "python3"
  },
  "language_info": {
   "codemirror_mode": {
    "name": "ipython",
    "version": 3
   },
   "file_extension": ".py",
   "mimetype": "text/x-python",
   "name": "python",
   "nbconvert_exporter": "python",
   "pygments_lexer": "ipython3",
   "version": "3.8.3"
  }
 },
 "nbformat": 4,
 "nbformat_minor": 4
}
